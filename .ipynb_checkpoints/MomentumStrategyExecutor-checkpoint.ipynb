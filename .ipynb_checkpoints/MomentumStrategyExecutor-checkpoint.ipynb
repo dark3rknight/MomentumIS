{
 "cells": [
  {
   "cell_type": "code",
   "execution_count": 1,
   "metadata": {},
   "outputs": [
    {
     "name": "stderr",
     "output_type": "stream",
     "text": [
      "/home/ishan/anaconda3/envs/trading/lib/python3.6/site-packages/sklearn/cross_validation.py:41: DeprecationWarning: This module was deprecated in version 0.18 in favor of the model_selection module into which all the refactored classes and functions are moved. Also note that the interface of the new CV iterators are different from that of this module. This module will be removed in 0.20.\n",
      "  \"This module will be removed in 0.20.\", DeprecationWarning)\n"
     ]
    }
   ],
   "source": [
    "import sys\n",
    "import os\n",
    "currentDir = os.getcwd()\n",
    "sys.path.append(currentDir + '/Strategy')\n",
    "sys.path.append(currentDir + '/Strategy/momentumTrading')\n",
    "from datetime import datetime\n",
    "from MomentumStrategyPortfolio import MomentumStrategyPortfolio\n",
    "from utilities import commonFunctions as cf\n",
    "import math"
   ]
  },
  {
   "cell_type": "code",
   "execution_count": null,
   "metadata": {},
   "outputs": [],
   "source": [
    "folders = ['../../nifty50_combined/', '../../final70_combined/']\n",
    "folder = folders[0]\n",
    "csvPaths = [folder]\n",
    "portfolioStocks = []\n",
    "files = os.listdir(folder)\n",
    "for file in files:\n",
    "    portfolioStocks.append(file[:-4])\n",
    "\n",
    "portfolioStocks = ['ONGC']\n",
    "executionParameters = {}\n",
    "strategyParameters = {}\n",
    "strategyAddress = 'momentumTrading.MomentumStrategy'\n",
    "strategyName = 'MomentumStrategy'\n",
    "strategyParameters['smba_period1'] = 10\n",
    "strategyParameters['smba_period2'] = 20\n",
    "strategyParameters['psar_AF'] = 0.02\n",
    "strategyParameters['psar_MA'] = 0.2\n",
    "strategyParameters['ols_period'] = 15\n",
    "strategyParameters['stopLoss'] = 5\n",
    "strategyParameters['stopLossFlag'] = True\n",
    "strategyParameters['usePredictiveModel'] = False\n",
    "strategyParameters['LowColumn'] = 'LOW'\n",
    "strategyParameters['HighColumn'] = 'HIGH'\n",
    "strategyParameters['PriceColumn'] = 'CLOSE'\n",
    "strategyParameters['minimumDataPoints'] = 20\n",
    "strategyParameters['numberOfDailyCandles'] = 1\n",
    "strategyParameters['collectRegressionData'] = False\n",
    "strategyParameters['timeDelta'] = 'minutes = 30'\n",
    "strategyParameters['automataFile'] = './Strategy/momentumTrading/momentumTrading_automata.csv'\n",
    "strategyParameters['transactionSummaryFolder'] = './CheckingPositions'\n",
    "strategyParameters['positionSummaryFolder'] = './CheckingPositions'\n",
    "strategyParameters['transactionSummary'] = False\n",
    "strategyParameters['positionSummary'] = './Positions.xlsx'\n",
    "strategyParameters['indicatorSummary'] = './Indicators.csv'\n",
    "executionParameters['startDate'] = '01/01/2011'\n",
    "executionParameters['endDate'] = '31/12/2017'\n",
    "\n",
    "year = None\n",
    "if(year):\n",
    "    executionParameters['startDate'] = '01/01/' + str(year)\n",
    "    executionParameters['endDate'] = '31/12/' + str(year)"
   ]
  },
  {
   "cell_type": "code",
   "execution_count": null,
   "metadata": {},
   "outputs": [
    {
     "name": "stdout",
     "output_type": "stream",
     "text": [
      "1. Analysing...  ONGC Length: 14375\n"
     ]
    },
    {
     "name": "stderr",
     "output_type": "stream",
     "text": [
      "\\ 49986 Elapsed Time: 0:00:44                                                  "
     ]
    }
   ],
   "source": [
    "strategyPortfolio = MomentumStrategyPortfolio(portfolioStocks, strategyName, strategyAddress, strategyParameters, executionParameters, csvPaths = csvPaths)\n",
    "result = strategyPortfolio.testStrategy()"
   ]
  },
  {
   "cell_type": "code",
   "execution_count": null,
   "metadata": {
    "collapsed": true
   },
   "outputs": [],
   "source": []
  }
 ],
 "metadata": {
  "kernelspec": {
   "display_name": "Python 3",
   "language": "python",
   "name": "python3"
  },
  "language_info": {
   "codemirror_mode": {
    "name": "ipython",
    "version": 3
   },
   "file_extension": ".py",
   "mimetype": "text/x-python",
   "name": "python",
   "nbconvert_exporter": "python",
   "pygments_lexer": "ipython3",
   "version": "3.6.2"
  }
 },
 "nbformat": 4,
 "nbformat_minor": 2
}
