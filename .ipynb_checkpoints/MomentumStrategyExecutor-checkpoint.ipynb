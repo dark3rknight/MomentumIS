{
 "cells": [
  {
   "cell_type": "code",
   "execution_count": 4,
   "metadata": {},
   "outputs": [],
   "source": [
    "import sys\n",
    "import os\n",
    "currentDir = os.getcwd()\n",
    "sys.path.append(currentDir + '/Strategy')\n",
    "sys.path.append(currentDir + '/Strategy/momentumTrading')\n",
    "from datetime import datetime\n",
    "from StrategyPortfolio import StrategyPortfolio\n",
    "from utilities import commonFunctions as cf\n",
    "import math"
   ]
  },
  {
   "cell_type": "code",
   "execution_count": null,
   "metadata": {
    "collapsed": true
   },
   "outputs": [],
   "source": [
    "csvPaths = ['../daily1530_data/', '../30m_correctedData/']\n",
    "portfolioStocks = []\n",
    "df = pd.read_excel('Yogesh_Pairs.xlsx')\n",
    "selectedCombinations = []\n",
    "files = os.listdir(csvPaths[0])\n",
    "for i in range(df.shape[0]):\n",
    "    st1 = df.iloc[i]['Stock 1']\n",
    "    st2 = df.iloc[i]['Stock 2']\n",
    "    portfolioStocks.append([st1,st2])\n",
    "\n",
    "executionParameters = {}\n",
    "strategyParameters = {}\n",
    "strategyAddress = 'momentumTrading.MomentumStrategy'\n",
    "strategyName = 'momentumStrategy'\n",
    "strategyParameters['pastWindow'] = 20\n",
    "strategyParameters['pastWindow_std'] = 20\n",
    "strategyParameters['useUnevenLots'] = False\n",
    "strategyParameters['momentumWindow'] = 16\n",
    "strategyParameters['zscoreSell'] = 0\n",
    "strategyParameters['zscoreBuy'] = 1.75\n",
    "strategyParameters['checkPoint'] = 200\n",
    "strategyParameters['predictiveModelCheckFrequency'] = 1\n",
    "strategyParameters['usePredictiveModelAtEveryIteration'] = False\n",
    "strategyParameters['predictiveModelThreshold_startX'] = 0\n",
    "strategyParameters['predictiveModelThreshold_endX'] = 10\n",
    "strategyParameters['predictiveModelThreshold_startY'] = 0.6\n",
    "strategyParameters['predictiveModelThreshold_endY'] = 0.6\n",
    "strategyParameters['zscoreStopLoss'] = 3\n",
    "strategyParameters['correlationSelectionThreshold'] = 0.3\n",
    "strategyParameters['stopLossFlag'] = True\n",
    "strategyParameters['correlationCheckFlag'] = False\n",
    "strategyParameters['usePredictiveModel'] = False\n",
    "strategyParameters['LowColumn'] = 20\n",
    "strategyParameters['HighColumn'] = 'HIGH'\n",
    "strategyParameters['PriceColumn'] = 'EQUITY'\n",
    "strategyParameters['numberOfDailyCandles'] = 1\n",
    "strategyParameters['automataFile'] = './Strategy/momentumTrading/momentumTrading_automata.csv'\n",
    "strategyParameters['transactionSummaryFolder'] = './CheckingPositions'\n",
    "strategyParameters['positionSummaryFolder'] = './CheckingPositions'\n",
    "strategyParameters['transactionSummary'] = False\n",
    "strategyParameters['positionSummary'] = False\n",
    "executionParameters['startDate'] = '01/01/2011'\n",
    "executionParameters['endDate'] = '31/12/2017'\n",
    "\n",
    "year = None\n",
    "if(year):\n",
    "    executionParameters['startDate'] = '01/01/' + str(year)\n",
    "    executionParameters['endDate'] = '31/12/' + str(year)"
   ]
  }
 ],
 "metadata": {
  "kernelspec": {
   "display_name": "Python 3",
   "language": "python",
   "name": "python3"
  },
  "language_info": {
   "codemirror_mode": {
    "name": "ipython",
    "version": 3
   },
   "file_extension": ".py",
   "mimetype": "text/x-python",
   "name": "python",
   "nbconvert_exporter": "python",
   "pygments_lexer": "ipython3",
   "version": "3.6.2"
  }
 },
 "nbformat": 4,
 "nbformat_minor": 2
}
