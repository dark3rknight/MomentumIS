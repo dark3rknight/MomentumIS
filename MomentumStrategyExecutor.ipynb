{
 "cells": [
  {
   "cell_type": "code",
   "execution_count": 1,
   "metadata": {},
   "outputs": [
    {
     "name": "stderr",
     "output_type": "stream",
     "text": [
      "/home/ishan/anaconda3/envs/trading/lib/python3.6/site-packages/sklearn/cross_validation.py:41: DeprecationWarning: This module was deprecated in version 0.18 in favor of the model_selection module into which all the refactored classes and functions are moved. Also note that the interface of the new CV iterators are different from that of this module. This module will be removed in 0.20.\n",
      "  \"This module will be removed in 0.20.\", DeprecationWarning)\n"
     ]
    }
   ],
   "source": [
    "import sys\n",
    "import os\n",
    "currentDir = os.getcwd()\n",
    "sys.path.append(currentDir + '/Strategy')\n",
    "sys.path.append(currentDir + '/Strategy/momentumTrading')\n",
    "from datetime import datetime\n",
    "from MomentumStrategyPortfolio import MomentumStrategyPortfolio\n",
    "from utilities import commonFunctions as cf\n",
    "import math"
   ]
  },
  {
   "cell_type": "code",
   "execution_count": 2,
   "metadata": {},
   "outputs": [],
   "source": [
    "folders = ['../../nifty50_combined/', '../../final70_combined/']\n",
    "folder = folders[0]\n",
    "csvPaths = [folder]\n",
    "portfolioStocks = []\n",
    "files = os.listdir(folder)\n",
    "for file in files:\n",
    "    portfolioStocks.append(file[:-4])\n",
    "\n",
    "executionParameters = {}\n",
    "strategyParameters = {}\n",
    "strategyAddress = 'momentumTrading.MomentumStrategy'\n",
    "strategyName = 'MomentumStrategy'\n",
    "strategyParameters['smba_period1'] = 10\n",
    "strategyParameters['smba_period2'] = 20\n",
    "strategyParameters['psar_AF'] = 0.02\n",
    "strategyParameters['psar_MA'] = 0.2\n",
    "strategyParameters['ols_period'] = 15\n",
    "strategyParameters['stopLoss'] = 5\n",
    "strategyParameters['stopLossFlag'] = True\n",
    "strategyParameters['usePredictiveModel'] = False\n",
    "strategyParameters['LowColumn'] = 'LOW'\n",
    "strategyParameters['HighColumn'] = 'HIGH'\n",
    "strategyParameters['PriceColumn'] = 'CLOSE'\n",
    "strategyParameters['minimumDataPoints'] = 20\n",
    "strategyParameters['numberOfDailyCandles'] = 1\n",
    "strategyParameters['collectRegressionData'] = False\n",
    "strategyParameters['timeDelta'] = 'minutes = 30'\n",
    "strategyParameters['automataFile'] = './Strategy/momentumTrading/momentumTrading_automata.csv'\n",
    "strategyParameters['transactionSummaryFolder'] = './CheckingPositions'\n",
    "strategyParameters['positionSummaryFolder'] = './CheckingPositions'\n",
    "strategyParameters['transactionSummary'] = False\n",
    "strategyParameters['positionSummary'] = False\n",
    "executionParameters['startDate'] = '01/01/2011'\n",
    "executionParameters['endDate'] = '31/12/2017'\n",
    "\n",
    "year = None\n",
    "if(year):\n",
    "    executionParameters['startDate'] = '01/01/' + str(year)\n",
    "    executionParameters['endDate'] = '31/12/' + str(year)"
   ]
  },
  {
   "cell_type": "code",
   "execution_count": 3,
   "metadata": {},
   "outputs": [
    {
     "name": "stdout",
     "output_type": "stream",
     "text": [
      "1. Analysing...  ONGC Length: 14375\n"
     ]
    },
    {
     "name": "stderr",
     "output_type": "stream",
     "text": [
      "| 104 Elapsed Time: 0:00:00                                                    "
     ]
    },
    {
     "name": "stdout",
     "output_type": "stream",
     "text": [
      "0\n",
      "0\n",
      "0\n",
      "0\n",
      "0\n",
      "0\n",
      "0\n",
      "0\n",
      "0\n",
      "0\n",
      "0\n",
      "0\n",
      "0\n",
      "0\n",
      "0\n",
      "0\n",
      "0\n",
      "0\n",
      "0\n",
      "0\n",
      "0\n",
      "0\n",
      "0\n",
      "0\n",
      "0\n",
      "0\n",
      "0\n",
      "0\n",
      "0\n",
      "0\n",
      "0\n",
      "0\n",
      "0\n",
      "0\n",
      "0\n",
      "0\n"
     ]
    },
    {
     "name": "stderr",
     "output_type": "stream",
     "text": [
      "- 243 Elapsed Time: 0:00:00                                                    "
     ]
    },
    {
     "name": "stdout",
     "output_type": "stream",
     "text": [
      "0\n",
      "0\n",
      "0\n",
      "0\n",
      "0\n",
      "0\n",
      "0\n",
      "0\n",
      "0\n",
      "0\n",
      "0\n",
      "Datetime\n",
      "2013-01-03 15:15:00   NaN\n",
      "2013-01-07 15:15:00   NaN\n",
      "Name: CLOSE, dtype: float64\n"
     ]
    },
    {
     "ename": "ValueError",
     "evalue": "The truth value of a Series is ambiguous. Use a.empty, a.bool(), a.item(), a.any() or a.all().",
     "output_type": "error",
     "traceback": [
      "\u001b[0;31m---------------------------------------------------------------------------\u001b[0m",
      "\u001b[0;31mValueError\u001b[0m                                Traceback (most recent call last)",
      "\u001b[0;32m<ipython-input-3-7d2817f16e92>\u001b[0m in \u001b[0;36m<module>\u001b[0;34m()\u001b[0m\n\u001b[1;32m      1\u001b[0m \u001b[0mstrategyPortfolio\u001b[0m \u001b[0;34m=\u001b[0m \u001b[0mMomentumStrategyPortfolio\u001b[0m\u001b[0;34m(\u001b[0m\u001b[0mportfolioStocks\u001b[0m\u001b[0;34m,\u001b[0m \u001b[0mstrategyName\u001b[0m\u001b[0;34m,\u001b[0m \u001b[0mstrategyAddress\u001b[0m\u001b[0;34m,\u001b[0m \u001b[0mstrategyParameters\u001b[0m\u001b[0;34m,\u001b[0m \u001b[0mexecutionParameters\u001b[0m\u001b[0;34m,\u001b[0m \u001b[0mcsvPaths\u001b[0m \u001b[0;34m=\u001b[0m \u001b[0mcsvPaths\u001b[0m\u001b[0;34m)\u001b[0m\u001b[0;34m\u001b[0m\u001b[0m\n\u001b[0;32m----> 2\u001b[0;31m \u001b[0mresult\u001b[0m \u001b[0;34m=\u001b[0m \u001b[0mstrategyPortfolio\u001b[0m\u001b[0;34m.\u001b[0m\u001b[0mtestStrategy\u001b[0m\u001b[0;34m(\u001b[0m\u001b[0;34m)\u001b[0m\u001b[0;34m\u001b[0m\u001b[0m\n\u001b[0m",
      "\u001b[0;32m~/Desktop/Ishan/Stock Data/Code Files/MomentumIS/Strategy/momentumTrading/MomentumStrategyPortfolio.py\u001b[0m in \u001b[0;36mtestStrategy\u001b[0;34m(self)\u001b[0m\n\u001b[1;32m     71\u001b[0m                         \u001b[0mprint\u001b[0m\u001b[0;34m(\u001b[0m\u001b[0mstr\u001b[0m\u001b[0;34m(\u001b[0m\u001b[0mcount\u001b[0m\u001b[0;34m)\u001b[0m \u001b[0;34m+\u001b[0m \u001b[0;34m'. Analysing... '\u001b[0m\u001b[0;34m,\u001b[0m \u001b[0mlabel\u001b[0m\u001b[0;34m,\u001b[0m \u001b[0;34m'Length: '\u001b[0m \u001b[0;34m+\u001b[0m \u001b[0mstr\u001b[0m\u001b[0;34m(\u001b[0m\u001b[0mlength\u001b[0m\u001b[0;34m)\u001b[0m\u001b[0;34m)\u001b[0m\u001b[0;34m\u001b[0m\u001b[0m\n\u001b[1;32m     72\u001b[0m                         \u001b[0mstrategy\u001b[0m \u001b[0;34m=\u001b[0m \u001b[0meval\u001b[0m\u001b[0;34m(\u001b[0m\u001b[0mself\u001b[0m\u001b[0;34m.\u001b[0m\u001b[0mstrategyName\u001b[0m \u001b[0;34m+\u001b[0m \u001b[0;34m'(parameters = self.strategyParameters)'\u001b[0m\u001b[0;34m)\u001b[0m\u001b[0;34m\u001b[0m\u001b[0m\n\u001b[0;32m---> 73\u001b[0;31m                         \u001b[0mreturns\u001b[0m \u001b[0;34m=\u001b[0m \u001b[0meval\u001b[0m\u001b[0;34m(\u001b[0m\u001b[0;34m'strategy.testStrategy('\u001b[0m \u001b[0;34m+\u001b[0m \u001b[0mfunctionString\u001b[0m \u001b[0;34m+\u001b[0m \u001b[0;34m')'\u001b[0m\u001b[0;34m)\u001b[0m\u001b[0;34m\u001b[0m\u001b[0m\n\u001b[0m\u001b[1;32m     74\u001b[0m                         \u001b[0mprint\u001b[0m\u001b[0;34m(\u001b[0m\u001b[0mlabel\u001b[0m\u001b[0;34m,\u001b[0m\u001b[0mreturns\u001b[0m\u001b[0;34m,\u001b[0m \u001b[0mstrategy\u001b[0m\u001b[0;34m.\u001b[0m\u001b[0mMTMReturn_30m\u001b[0m\u001b[0;34m)\u001b[0m\u001b[0;34m\u001b[0m\u001b[0m\n\u001b[1;32m     75\u001b[0m                         \u001b[0mself\u001b[0m\u001b[0;34m.\u001b[0m\u001b[0mstockCount\u001b[0m\u001b[0;34m[\u001b[0m\u001b[0;34m'Completed'\u001b[0m\u001b[0;34m]\u001b[0m \u001b[0;34m+=\u001b[0m \u001b[0;36m1\u001b[0m\u001b[0;34m\u001b[0m\u001b[0m\n",
      "\u001b[0;32m~/Desktop/Ishan/Stock Data/Code Files/MomentumIS/Strategy/momentumTrading/MomentumStrategyPortfolio.py\u001b[0m in \u001b[0;36m<module>\u001b[0;34m()\u001b[0m\n",
      "\u001b[0;32m~/Desktop/Ishan/Stock Data/Code Files/MomentumIS/Strategy/momentumTrading/MomentumStrategy.py\u001b[0m in \u001b[0;36mtestStrategy\u001b[0;34m(self, stockdf, stockName, startDate, endDate)\u001b[0m\n\u001b[1;32m     81\u001b[0m                                 \u001b[0mexec\u001b[0m\u001b[0;34m(\u001b[0m\u001b[0;34m'self.'\u001b[0m \u001b[0;34m+\u001b[0m \u001b[0maction\u001b[0m \u001b[0;34m+\u001b[0m \u001b[0;34m'(datetime,data,selectedEdge)'\u001b[0m\u001b[0;34m)\u001b[0m\u001b[0;34m\u001b[0m\u001b[0m\n\u001b[1;32m     82\u001b[0m                         \u001b[0;32mif\u001b[0m\u001b[0;34m(\u001b[0m\u001b[0mdata\u001b[0m \u001b[0;34m!=\u001b[0m \u001b[0;32mNone\u001b[0m\u001b[0;34m)\u001b[0m\u001b[0;34m:\u001b[0m\u001b[0;34m\u001b[0m\u001b[0m\n\u001b[0;32m---> 83\u001b[0;31m                                 \u001b[0mself\u001b[0m\u001b[0;34m.\u001b[0m\u001b[0mupdateData\u001b[0m\u001b[0;34m(\u001b[0m\u001b[0mdatetime\u001b[0m\u001b[0;34m,\u001b[0m\u001b[0mdata\u001b[0m\u001b[0;34m,\u001b[0m\u001b[0mselectedEdge\u001b[0m\u001b[0;34m)\u001b[0m\u001b[0;34m\u001b[0m\u001b[0m\n\u001b[0m\u001b[1;32m     84\u001b[0m                 \u001b[0;32mreturn\u001b[0m \u001b[0mself\u001b[0m\u001b[0;34m.\u001b[0m\u001b[0mclosingFormalities\u001b[0m\u001b[0;34m(\u001b[0m\u001b[0;34m)\u001b[0m\u001b[0;34m\u001b[0m\u001b[0m\n\u001b[1;32m     85\u001b[0m \u001b[0;34m\u001b[0m\u001b[0m\n",
      "\u001b[0;32m~/Desktop/Ishan/Stock Data/Code Files/MomentumIS/Strategy/momentumTrading/MomentumStrategy.py\u001b[0m in \u001b[0;36mupdateData\u001b[0;34m(self, datetime, data, selectedEdge)\u001b[0m\n\u001b[1;32m    144\u001b[0m                 \u001b[0mself\u001b[0m\u001b[0;34m.\u001b[0m\u001b[0mdetrendedContinuousReturnCurveWithTimeIndex\u001b[0m\u001b[0;34m[\u001b[0m\u001b[0mdatetime\u001b[0m\u001b[0;34m]\u001b[0m \u001b[0;34m=\u001b[0m \u001b[0mself\u001b[0m\u001b[0;34m.\u001b[0m\u001b[0mimmediateReturn\u001b[0m\u001b[0;34m\u001b[0m\u001b[0m\n\u001b[1;32m    145\u001b[0m                 \u001b[0mprint\u001b[0m\u001b[0;34m(\u001b[0m\u001b[0mself\u001b[0m\u001b[0;34m.\u001b[0m\u001b[0mimmediateReturn\u001b[0m\u001b[0;34m)\u001b[0m\u001b[0;34m\u001b[0m\u001b[0m\n\u001b[0;32m--> 146\u001b[0;31m                 \u001b[0;32mif\u001b[0m\u001b[0;34m(\u001b[0m\u001b[0mself\u001b[0m\u001b[0;34m.\u001b[0m\u001b[0mimmediateReturn\u001b[0m \u001b[0;34m!=\u001b[0m \u001b[0;36m0\u001b[0m\u001b[0;34m)\u001b[0m\u001b[0;34m:\u001b[0m\u001b[0;34m\u001b[0m\u001b[0m\n\u001b[0m\u001b[1;32m    147\u001b[0m                         \u001b[0mself\u001b[0m\u001b[0;34m.\u001b[0m\u001b[0mprofitDistributions\u001b[0m\u001b[0;34m[\u001b[0m\u001b[0mselectedEdge\u001b[0m\u001b[0;34m]\u001b[0m\u001b[0;34m[\u001b[0m\u001b[0;36m0\u001b[0m\u001b[0;34m]\u001b[0m \u001b[0;34m+=\u001b[0m \u001b[0;36m1\u001b[0m\u001b[0;34m\u001b[0m\u001b[0m\n\u001b[1;32m    148\u001b[0m                         \u001b[0mself\u001b[0m\u001b[0;34m.\u001b[0m\u001b[0mprofitDistributions\u001b[0m\u001b[0;34m[\u001b[0m\u001b[0mselectedEdge\u001b[0m\u001b[0;34m]\u001b[0m\u001b[0;34m[\u001b[0m\u001b[0;36m1\u001b[0m\u001b[0;34m]\u001b[0m \u001b[0;34m+=\u001b[0m \u001b[0mself\u001b[0m\u001b[0;34m.\u001b[0m\u001b[0mimmediateReturn\u001b[0m\u001b[0;34m\u001b[0m\u001b[0m\n",
      "\u001b[0;32m~/anaconda3/envs/trading/lib/python3.6/site-packages/pandas/core/generic.py\u001b[0m in \u001b[0;36m__nonzero__\u001b[0;34m(self)\u001b[0m\n\u001b[1;32m   1119\u001b[0m         raise ValueError(\"The truth value of a {0} is ambiguous. \"\n\u001b[1;32m   1120\u001b[0m                          \u001b[0;34m\"Use a.empty, a.bool(), a.item(), a.any() or a.all().\"\u001b[0m\u001b[0;34m\u001b[0m\u001b[0m\n\u001b[0;32m-> 1121\u001b[0;31m                          .format(self.__class__.__name__))\n\u001b[0m\u001b[1;32m   1122\u001b[0m \u001b[0;34m\u001b[0m\u001b[0m\n\u001b[1;32m   1123\u001b[0m     \u001b[0m__bool__\u001b[0m \u001b[0;34m=\u001b[0m \u001b[0m__nonzero__\u001b[0m\u001b[0;34m\u001b[0m\u001b[0m\n",
      "\u001b[0;31mValueError\u001b[0m: The truth value of a Series is ambiguous. Use a.empty, a.bool(), a.item(), a.any() or a.all()."
     ]
    }
   ],
   "source": [
    "strategyPortfolio = MomentumStrategyPortfolio(portfolioStocks, strategyName, strategyAddress, strategyParameters, executionParameters, csvPaths = csvPaths)\n",
    "result = strategyPortfolio.testStrategy()"
   ]
  },
  {
   "cell_type": "code",
   "execution_count": null,
   "metadata": {
    "collapsed": true
   },
   "outputs": [],
   "source": []
  }
 ],
 "metadata": {
  "kernelspec": {
   "display_name": "Python 3",
   "language": "python",
   "name": "python3"
  },
  "language_info": {
   "codemirror_mode": {
    "name": "ipython",
    "version": 3
   },
   "file_extension": ".py",
   "mimetype": "text/x-python",
   "name": "python",
   "nbconvert_exporter": "python",
   "pygments_lexer": "ipython3",
   "version": "3.6.2"
  }
 },
 "nbformat": 4,
 "nbformat_minor": 2
}
